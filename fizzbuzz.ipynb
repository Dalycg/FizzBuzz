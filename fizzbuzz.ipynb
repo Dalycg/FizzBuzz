{
  "cells": [
    {
      "cell_type": "markdown",
      "source": [
        "# **FizzBuzz Machine Learning Classifier**\n",
        "\n",
        "This notebook implements several classification models to solve the FizzBuzz problem using automatically generated data. The models used are MLPClassifier, RandomForestClassifier, and SVM. Additionally, cross-validation is used to evaluate the performance of the models.\n"
      ],
      "metadata": {
        "id": "I-Y3zH693rf9"
      }
    },
    {
      "cell_type": "markdown",
      "source": [
        "# **Importing Libraries**\n",
        "\n",
        "Importing the necessary libraries for the project."
      ],
      "metadata": {
        "id": "IOUVVUUl3-R8"
      }
    },
    {
      "cell_type": "code",
      "source": [
        "import numpy as np\n",
        "import pandas as pd\n",
        "from sklearn.ensemble import RandomForestClassifier\n",
        "from sklearn.svm import SVC\n",
        "from sklearn.metrics import accuracy_score, classification_report\n",
        "from sklearn.neural_network import MLPClassifier\n",
        "from sklearn.model_selection import cross_val_score, KFold\n",
        "from tqdm.notebook import tqdm\n",
        "import matplotlib.pyplot as plt\n",
        "import pickle\n",
        "import os"
      ],
      "metadata": {
        "id": "KtGoERc64C-0"
      },
      "execution_count": 1,
      "outputs": []
    },
    {
      "cell_type": "markdown",
      "source": [
        "## **FizzBuzz Function**\n",
        "\n",
        "This function takes an integer and returns a label based on the FizzBuzz rules:\n",
        "- \"FizzBuzz\" if the number is divisible by 15.\n",
        "- \"Fizz\" if the number is divisible by 3.\n",
        "- \"Buzz\" if the number is divisible by 5.\n",
        "- \"None\" if the number is not divisible by any of the above."
      ],
      "metadata": {
        "id": "qIf0OWht4Fud"
      }
    },
    {
      "cell_type": "code",
      "source": [
        "def fizzbuzz(n):\n",
        "    if n % 15 == 0:\n",
        "        return 'FizzBuzz'\n",
        "    elif n % 3 == 0:\n",
        "        return 'Fizz'\n",
        "    elif n % 5 == 0:\n",
        "        return 'Buzz'\n",
        "    else:\n",
        "        return 'None'"
      ],
      "metadata": {
        "id": "TQYcatd64PJ1"
      },
      "execution_count": 2,
      "outputs": []
    },
    {
      "cell_type": "markdown",
      "source": [
        "## **Function to Create CSV Files**\n",
        "\n",
        "This function generates a CSV file with input data (numbers) and their corresponding FizzBuzz labels."
      ],
      "metadata": {
        "id": "lPYJoeYu4aVs"
      }
    },
    {
      "cell_type": "code",
      "source": [
        "def create_input_csv(start, end, filename):\n",
        "    data = {\"input\": list(range(start, end)), \"label\": [fizzbuzz(i) for i in range(start, end)]}\n",
        "    pd.DataFrame(data).to_csv(filename, index=False)\n",
        "    print(f\"{filename} Created!\")"
      ],
      "metadata": {
        "id": "MzgO1F3R4fJf"
      },
      "execution_count": 3,
      "outputs": []
    },
    {
      "cell_type": "markdown",
      "source": [
        "## **Function to Process Data**\n",
        "\n",
        "This function takes a DataFrame and processes it to convert the numeric inputs into binary representation and the labels into numeric values."
      ],
      "metadata": {
        "id": "Wzi2cLhP4nAE"
      }
    },
    {
      "cell_type": "code",
      "source": [
        "def process_data(dataset):\n",
        "    data = dataset['input'].values\n",
        "    labels = dataset['label'].values\n",
        "    processed_data = np.array([[int(bit) for bit in format(i, '012b')] for i in data])\n",
        "    label_map = {'None': 0, 'Fizz': 1, 'Buzz': 2, 'FizzBuzz': 3}\n",
        "    processed_label = [label_map[label] for label in labels]\n",
        "    return processed_data, processed_label"
      ],
      "metadata": {
        "id": "Zq2m8gwc4pGl"
      },
      "execution_count": 4,
      "outputs": []
    },
    {
      "cell_type": "markdown",
      "source": [
        "# **Creating Datasets**\n",
        "\n",
        "Generate two datasets: one for training and one for testing."
      ],
      "metadata": {
        "id": "QUVCkH5j4wY0"
      }
    },
    {
      "cell_type": "code",
      "source": [
        "create_input_csv(101, 4001, 'training.csv')\n",
        "create_input_csv(1, 101, 'testing.csv')"
      ],
      "metadata": {
        "id": "jpPsdHeX41de",
        "colab": {
          "base_uri": "https://localhost:8080/"
        },
        "outputId": "466a795b-6ed5-4e95-bb9e-d2464a8eca7d"
      },
      "execution_count": 5,
      "outputs": [
        {
          "output_type": "stream",
          "name": "stdout",
          "text": [
            "training.csv Created!\n",
            "testing.csv Created!\n"
          ]
        }
      ]
    },
    {
      "cell_type": "markdown",
      "source": [
        "# **Reading and Processing Datasets**\n",
        "\n",
        "Read the created CSV files and process the data to be ready for model training."
      ],
      "metadata": {
        "id": "34rdmvZ345GC"
      }
    },
    {
      "cell_type": "code",
      "source": [
        "train_data = pd.read_csv('training.csv', na_filter=False)\n",
        "test_data = pd.read_csv('testing.csv', na_filter=False)\n",
        "X_train, y_train = process_data(train_data)\n",
        "X_test, y_test = process_data(test_data)"
      ],
      "metadata": {
        "id": "nSkXK_d147g8"
      },
      "execution_count": 6,
      "outputs": []
    },
    {
      "cell_type": "markdown",
      "source": [
        "# **Setting Up Cross-Validation**\n",
        "\n",
        "Define a KFold with 10 splits to perform cross-validation during model training."
      ],
      "metadata": {
        "id": "xEdvw8Fm5Bv8"
      }
    },
    {
      "cell_type": "code",
      "source": [
        "kf = KFold(n_splits=10, shuffle=True, random_state=1)"
      ],
      "metadata": {
        "id": "5X0A5_vl5Cw9"
      },
      "execution_count": 7,
      "outputs": []
    },
    {
      "cell_type": "markdown",
      "source": [
        "# **Function to Evaluate Models**\n",
        "\n",
        "This function takes a model, trains it with the provided data, and evaluates its performance using cross-validation and test data. It prints the accuracy and classification report of the model."
      ],
      "metadata": {
        "id": "VtDHrfj75H5j"
      }
    },
    {
      "cell_type": "code",
      "source": [
        "def evaluate_model(model, X, y, model_name):\n",
        "    cv_scores = cross_val_score(model, X, y, cv=kf)\n",
        "    model.fit(X, y)\n",
        "    predictions = model.predict(X_test)\n",
        "    accuracy = accuracy_score(y_test, predictions)\n",
        "    print(f\"{model_name} Cross-Validation Accuracy: {cv_scores.mean():.4f}\")\n",
        "    print(f\"{model_name} Test Accuracy: {accuracy:.4f}\")\n",
        "    print(f\"{model_name} Classification Report:\\n {classification_report(y_test, predictions, target_names=['None', 'Fizz', 'Buzz', 'FizzBuzz'], zero_division=0)}\")\n",
        "    return accuracy"
      ],
      "metadata": {
        "id": "QKt9aoct5NBd"
      },
      "execution_count": 8,
      "outputs": []
    },
    {
      "cell_type": "markdown",
      "source": [
        "# **Training and Evaluating Models**\n",
        "\n",
        "Train and evaluate three different models: MLPClassifier, RandomForestClassifier, and SVM, using the `evaluate_model` function."
      ],
      "metadata": {
        "id": "gTIok2j95Uhv"
      }
    },
    {
      "cell_type": "code",
      "source": [
        "# Train MLP\n",
        "mlp = MLPClassifier(hidden_layer_sizes=(100, 100), max_iter=500, activation='relu', solver='adam')\n",
        "accuracy_mlp = evaluate_model(mlp, X_train, y_train, \"MLP\")\n",
        "\n",
        "# Train RandomForest\n",
        "rf = RandomForestClassifier(n_estimators=500, max_depth=10, min_samples_split=5, min_samples_leaf=2)\n",
        "accuracy_rf = evaluate_model(rf, X_train, y_train, \"RandomForest\")\n",
        "\n",
        "# Train SVM\n",
        "svm = SVC()\n",
        "accuracy_svm = evaluate_model(svm, X_train, y_train, \"SVM\")"
      ],
      "metadata": {
        "id": "gfPrFzGj5Wc1",
        "colab": {
          "base_uri": "https://localhost:8080/"
        },
        "outputId": "358b6274-829a-4908-9697-6a1d0591b795"
      },
      "execution_count": 9,
      "outputs": [
        {
          "output_type": "stream",
          "name": "stdout",
          "text": [
            "MLP Cross-Validation Accuracy: 0.9767\n",
            "MLP Test Accuracy: 0.9900\n",
            "MLP Classification Report:\n",
            "               precision    recall  f1-score   support\n",
            "\n",
            "        None       1.00      0.98      0.99        53\n",
            "        Fizz       1.00      1.00      1.00        27\n",
            "        Buzz       0.93      1.00      0.97        14\n",
            "    FizzBuzz       1.00      1.00      1.00         6\n",
            "\n",
            "    accuracy                           0.99       100\n",
            "   macro avg       0.98      1.00      0.99       100\n",
            "weighted avg       0.99      0.99      0.99       100\n",
            "\n",
            "RandomForest Cross-Validation Accuracy: 0.5195\n",
            "RandomForest Test Accuracy: 0.5300\n",
            "RandomForest Classification Report:\n",
            "               precision    recall  f1-score   support\n",
            "\n",
            "        None       0.53      1.00      0.69        53\n",
            "        Fizz       0.00      0.00      0.00        27\n",
            "        Buzz       0.00      0.00      0.00        14\n",
            "    FizzBuzz       0.00      0.00      0.00         6\n",
            "\n",
            "    accuracy                           0.53       100\n",
            "   macro avg       0.13      0.25      0.17       100\n",
            "weighted avg       0.28      0.53      0.37       100\n",
            "\n",
            "SVM Cross-Validation Accuracy: 0.5333\n",
            "SVM Test Accuracy: 0.5300\n",
            "SVM Classification Report:\n",
            "               precision    recall  f1-score   support\n",
            "\n",
            "        None       0.53      1.00      0.69        53\n",
            "        Fizz       0.00      0.00      0.00        27\n",
            "        Buzz       0.00      0.00      0.00        14\n",
            "    FizzBuzz       0.00      0.00      0.00         6\n",
            "\n",
            "    accuracy                           0.53       100\n",
            "   macro avg       0.13      0.25      0.17       100\n",
            "weighted avg       0.28      0.53      0.37       100\n",
            "\n"
          ]
        }
      ]
    },
    {
      "cell_type": "markdown",
      "source": [
        "\n",
        "\n",
        "\n",
        "\n",
        "\n",
        "# **Models Comparation**\n",
        "\n",
        "In this section, we compare the performance of the three machine learning models. The comparison is based on their test accuracy."
      ],
      "metadata": {
        "id": "5ciBev55-Mw8"
      }
    },
    {
      "cell_type": "code",
      "source": [
        "model_names = ['MLP', 'RandomForest', 'SVM']\n",
        "auc_values = [accuracy_mlp, accuracy_rf, accuracy_svm]\n",
        "\n",
        "\n",
        "plt.figure(figsize=(10, 6))\n",
        "bars = plt.bar(model_names, auc_values, color=['blue', 'green', 'orange'])\n",
        "\n",
        "\n",
        "for bar in bars:\n",
        "    yval = bar.get_height()\n",
        "    plt.text(bar.get_x() + bar.get_width() / 2, yval / 2, round(yval, 4), ha='center', va='center', fontsize=12, color='white', fontweight='bold')\n",
        "\n",
        "plt.xlabel('Models')\n",
        "plt.ylabel('AUC')\n",
        "plt.title('Models Comparation')\n",
        "plt.ylim(0, 1)\n",
        "plt.show()"
      ],
      "metadata": {
        "id": "KgY9P4iY51c-",
        "colab": {
          "base_uri": "https://localhost:8080/",
          "height": 564
        },
        "outputId": "2f9b1543-bd0b-4add-ab06-081977b59ea9"
      },
      "execution_count": 10,
      "outputs": [
        {
          "output_type": "display_data",
          "data": {
            "text/plain": [
              "<Figure size 1000x600 with 1 Axes>"
            ],
            "image/png": "[encoded data removed]"
          },
          "metadata": {}
        }
      ]
    },
    {
      "cell_type": "markdown",
      "source": [
        "# **Save Model**"
      ],
      "metadata": {
        "id": "K-VYM3RLxxnD"
      }
    },
    {
      "cell_type": "code",
      "source": [
        "os.makedirs(os.path.dirname('./model_mlp.pkl'), exist_ok=True)\n",
        "\n",
        "with open('model_mlp.pkl', 'wb') as file:\n",
        "    pickle.dump(mlp, file)\n",
        "print(f\"Model saved!\")"
      ],
      "metadata": {
        "colab": {
          "base_uri": "https://localhost:8080/"
        },
        "id": "kq4WroYGw0_F",
        "outputId": "a50647b9-fcec-4817-b883-a239355afdb8"
      },
      "execution_count": 12,
      "outputs": [
        {
          "output_type": "stream",
          "name": "stdout",
          "text": [
            "Model saved!\n"
          ]
        }
      ]
    }
  ],
  "metadata": {
    "colab": {
      "provenance": []
    },
    "kernelspec": {
      "display_name": "Python 3",
      "name": "python3"
    },
    "language_info": {
      "name": "python"
    }
  },
  "nbformat": 4,
  "nbformat_minor": 0
}